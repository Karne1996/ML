{
 "cells": [
  {
   "cell_type": "markdown",
   "metadata": {},
   "source": [
    "# <font color='red'>Exam Instructions :</font>   <br>\n",
    "\n",
    "<font color='red'>\n",
    "    1. You will be given <b>3 Hour</b> to complete this case study. <br>\n",
    "    2. It is an open test i.e. you are allowed to use notes/google but you are not allowed to discuss with your classmates.<br>\n",
    "    3. If more than 30% of your code is found matching with any other classmate you both will be failed. We will use hacker ranks's palagrism to check this as was shown in demo. <br>\n",
    "    4. Your notebook name must be your CDAC Full_PRN_Number only. (use your id card as refrence ,if required)<br>\n",
    "    5. For final submission you will have to submit 2 files (use \"download as\" option of jupyter notebook) <br>\n",
    "            <p style=\"padding-left: 150px;\">1) .ipnyb file with output </p>\n",
    "            <p style=\"padding-left: 150px;\">2) .py file</p><br>\n",
    "    6. Create a folder name Your_Full_PRN_Number and upload both files(.ipnyb and .py) in\n",
    "    given link <br></font> "
   ]
  },
  {
   "cell_type": "markdown",
   "metadata": {},
   "source": [
    "# Case Study -  Predict whether an employee will leave  the Company or Not"
   ]
  },
  {
   "cell_type": "markdown",
   "metadata": {},
   "source": [
    "Predict whether an employee will leave the \"Company\" based on various features such as number of projects they worked on, time spent at the company, last performance review, salary etc. The dataset has around 15,000 rows and 9 columns. The column you need to predict is called \"left\". It's a binary column with 0/1 values. The label 1 means that the employee has left.\n",
    "\n",
    "Solve the case study by follwoing two approaches :\n",
    "\n",
    "    1. Any one traditional machine learning algorithm.\n",
    "    2. Any deep learning algorithm."
   ]
  },
  {
   "cell_type": "markdown",
   "metadata": {},
   "source": [
    "# CRISP-DM\n",
    "You're going to follow the CRISP-DM process to investigate and prepare this data for further work.\n",
    "\n",
    "    1. Business Understanding - Write down your business understanding of your case study in layman terms.\n",
    "    2. Data Understanding - What's your insight from provided dataset\n",
    "    3. Data Preparation - What steps did you take to prepare data and why? (Feature Engineering)\n",
    "    4. Modelling - Which model/algorithm did you apply and why ?\n",
    "    5. Evaluating the results - Which matrix and approach did you use to evaluate your model and Why?\n",
    "    6. Deploying changes - To increase the accuracy did you deploy any changes if yes , what changes did you make ?\n",
    "    \n",
    "## Note : Model accuracy should be 85% or more"
   ]
  },
  {
   "cell_type": "code",
   "execution_count": 1,
   "metadata": {},
   "outputs": [
    {
     "name": "stdout",
     "output_type": "stream",
     "text": [
      "Requirement already satisfied: lightgbm in c:\\users\\admin\\anaconda3\\lib\\site-packages (2.3.1)\n",
      "Requirement already satisfied: scikit-learn in c:\\users\\admin\\anaconda3\\lib\\site-packages (from lightgbm) (0.22)\n",
      "Requirement already satisfied: numpy in c:\\users\\admin\\anaconda3\\lib\\site-packages (from lightgbm) (1.16.2)\n",
      "Requirement already satisfied: scipy in c:\\users\\admin\\anaconda3\\lib\\site-packages (from lightgbm) (1.2.1)\n",
      "Requirement already satisfied: joblib>=0.11 in c:\\users\\admin\\anaconda3\\lib\\site-packages (from scikit-learn->lightgbm) (0.13.2)\n",
      "Note: you may need to restart the kernel to use updated packages.\n"
     ]
    }
   ],
   "source": [
    "pip install lightgbm"
   ]
  },
  {
   "cell_type": "code",
   "execution_count": 2,
   "metadata": {},
   "outputs": [],
   "source": [
    "import numpy as np\n",
    "import pandas as pd\n",
    "from sklearn.model_selection import train_test_split\n",
    "from sklearn.metrics import accuracy_score\n",
    "from time import time\n",
    "from IPython.display import display\n",
    "import seaborn as sns\n",
    "from matplotlib import pyplot as plt \n",
    "from sklearn.preprocessing import LabelEncoder\n",
    "from sklearn.ensemble import RandomForestClassifier\n",
    "from sklearn.metrics import accuracy_score\n",
    "from sklearn.metrics import confusion_matrix\n",
    "from sklearn.feature_selection import SelectKBest\n",
    "from sklearn.feature_selection import chi2\n",
    "from sklearn.preprocessing import MinMaxScaler\n",
    "from sklearn.feature_selection import RFE\n",
    "from sklearn.linear_model import LogisticRegression\n",
    "from sklearn.feature_selection import SelectFromModel\n",
    "from sklearn.linear_model import LogisticRegression\n",
    "from sklearn.feature_selection import SelectFromModel\n",
    "from sklearn.ensemble import RandomForestClassifier\n",
    "from sklearn.feature_selection import SelectFromModel\n",
    "from sklearn.svm import SVC \n",
    "from sklearn.metrics import classification_report, confusion_matrix\n",
    "from sklearn.decomposition import PCA\n",
    "from sklearn.preprocessing import StandardScaler\n",
    "\n",
    "# Pretty display for notebooks\n",
    "%matplotlib inline"
   ]
  },
  {
   "cell_type": "markdown",
   "metadata": {},
   "source": [
    "<h3>1. Loading Raw Data</h3>"
   ]
  },
  {
   "cell_type": "code",
   "execution_count": 3,
   "metadata": {},
   "outputs": [
    {
     "data": {
      "text/html": [
       "<div>\n",
       "<style scoped>\n",
       "    .dataframe tbody tr th:only-of-type {\n",
       "        vertical-align: middle;\n",
       "    }\n",
       "\n",
       "    .dataframe tbody tr th {\n",
       "        vertical-align: top;\n",
       "    }\n",
       "\n",
       "    .dataframe thead th {\n",
       "        text-align: right;\n",
       "    }\n",
       "</style>\n",
       "<table border=\"1\" class=\"dataframe\">\n",
       "  <thead>\n",
       "    <tr style=\"text-align: right;\">\n",
       "      <th></th>\n",
       "      <th>satisfaction_level</th>\n",
       "      <th>last_evaluation</th>\n",
       "      <th>number_project</th>\n",
       "      <th>average_monthly_hours</th>\n",
       "      <th>time_spend_company</th>\n",
       "      <th>Work_accident</th>\n",
       "      <th>promotion_last_5years</th>\n",
       "      <th>sales</th>\n",
       "      <th>salary</th>\n",
       "      <th>left</th>\n",
       "    </tr>\n",
       "  </thead>\n",
       "  <tbody>\n",
       "    <tr>\n",
       "      <th>0</th>\n",
       "      <td>0.38</td>\n",
       "      <td>0.53</td>\n",
       "      <td>2</td>\n",
       "      <td>157</td>\n",
       "      <td>3</td>\n",
       "      <td>0</td>\n",
       "      <td>0</td>\n",
       "      <td>sales</td>\n",
       "      <td>low</td>\n",
       "      <td>1.0</td>\n",
       "    </tr>\n",
       "    <tr>\n",
       "      <th>1</th>\n",
       "      <td>0.80</td>\n",
       "      <td>0.86</td>\n",
       "      <td>5</td>\n",
       "      <td>262</td>\n",
       "      <td>6</td>\n",
       "      <td>0</td>\n",
       "      <td>0</td>\n",
       "      <td>sales</td>\n",
       "      <td>medium</td>\n",
       "      <td>1.0</td>\n",
       "    </tr>\n",
       "  </tbody>\n",
       "</table>\n",
       "</div>"
      ],
      "text/plain": [
       "   satisfaction_level  last_evaluation  number_project  average_monthly_hours  \\\n",
       "0                0.38             0.53               2                    157   \n",
       "1                0.80             0.86               5                    262   \n",
       "\n",
       "   time_spend_company  Work_accident  promotion_last_5years  sales  salary  \\\n",
       "0                   3              0                      0  sales     low   \n",
       "1                   6              0                      0  sales  medium   \n",
       "\n",
       "   left  \n",
       "0   1.0  \n",
       "1   1.0  "
      ]
     },
     "execution_count": 3,
     "metadata": {},
     "output_type": "execute_result"
    }
   ],
   "source": [
    "full_data = pd.read_csv(r\"C:\\Users\\admin\\Desktop\\dataset.csv\")\n",
    "full_data.head(2)"
   ]
  },
  {
   "cell_type": "markdown",
   "metadata": {},
   "source": [
    "<h3>2. Exploratory Data Analysis</h3>"
   ]
  },
  {
   "cell_type": "code",
   "execution_count": 4,
   "metadata": {},
   "outputs": [
    {
     "data": {
      "text/plain": [
       "14999"
      ]
     },
     "execution_count": 4,
     "metadata": {},
     "output_type": "execute_result"
    }
   ],
   "source": [
    "#full_data.shape\n",
    "full_data.shape[0]"
   ]
  },
  {
   "cell_type": "markdown",
   "metadata": {},
   "source": [
    "<h3>2.1 Cleaning Data</h3>"
   ]
  },
  {
   "cell_type": "code",
   "execution_count": 5,
   "metadata": {},
   "outputs": [
    {
     "data": {
      "text/plain": [
       "True"
      ]
     },
     "execution_count": 5,
     "metadata": {},
     "output_type": "execute_result"
    }
   ],
   "source": [
    "full_data.isna().values.any() #checking if data has null values"
   ]
  },
  {
   "cell_type": "code",
   "execution_count": 6,
   "metadata": {},
   "outputs": [
    {
     "data": {
      "text/plain": [
       "Index(['left'], dtype='object')"
      ]
     },
     "execution_count": 6,
     "metadata": {},
     "output_type": "execute_result"
    }
   ],
   "source": [
    "full_data.columns[full_data.isna().any()] #checking which column has null values"
   ]
  },
  {
   "cell_type": "code",
   "execution_count": 7,
   "metadata": {},
   "outputs": [
    {
     "data": {
      "text/plain": [
       "False    14998\n",
       "True         1\n",
       "Name: left, dtype: int64"
      ]
     },
     "execution_count": 7,
     "metadata": {},
     "output_type": "execute_result"
    }
   ],
   "source": [
    "full_data.left.isna().value_counts()"
   ]
  },
  {
   "cell_type": "code",
   "execution_count": 8,
   "metadata": {},
   "outputs": [],
   "source": [
    "full_data = full_data.dropna()"
   ]
  },
  {
   "cell_type": "code",
   "execution_count": 9,
   "metadata": {
    "scrolled": true
   },
   "outputs": [
    {
     "data": {
      "text/plain": [
       "False    14998\n",
       "Name: left, dtype: int64"
      ]
     },
     "execution_count": 9,
     "metadata": {},
     "output_type": "execute_result"
    }
   ],
   "source": [
    "full_data.left.isna().value_counts()"
   ]
  },
  {
   "cell_type": "code",
   "execution_count": 10,
   "metadata": {},
   "outputs": [
    {
     "name": "stdout",
     "output_type": "stream",
     "text": [
      "***\n",
      "0.10    358\n",
      "0.11    335\n",
      "0.74    257\n",
      "0.77    252\n",
      "0.84    247\n",
      "0.73    246\n",
      "0.78    241\n",
      "0.82    241\n",
      "0.37    240\n",
      "0.89    237\n",
      "0.76    234\n",
      "0.83    234\n",
      "0.72    230\n",
      "0.50    229\n",
      "0.66    228\n",
      "0.75    226\n",
      "0.87    225\n",
      "0.43    224\n",
      "0.91    224\n",
      "0.80    222\n",
      "0.90    220\n",
      "0.81    220\n",
      "0.59    219\n",
      "0.79    217\n",
      "0.44    211\n",
      "0.57    210\n",
      "0.63    209\n",
      "0.49    209\n",
      "0.69    209\n",
      "0.40    209\n",
      "       ... \n",
      "0.42    155\n",
      "0.48    149\n",
      "0.36    139\n",
      "1.00    111\n",
      "0.46     95\n",
      "0.24     80\n",
      "0.16     79\n",
      "0.15     76\n",
      "0.19     74\n",
      "0.14     73\n",
      "0.17     72\n",
      "0.20     69\n",
      "0.21     67\n",
      "0.18     63\n",
      "0.22     60\n",
      "0.31     59\n",
      "0.13     54\n",
      "0.23     54\n",
      "0.32     50\n",
      "0.34     48\n",
      "0.47     42\n",
      "0.30     39\n",
      "0.29     38\n",
      "0.35     37\n",
      "0.33     36\n",
      "0.25     34\n",
      "0.28     31\n",
      "0.27     30\n",
      "0.12     30\n",
      "0.26     30\n",
      "Name: satisfaction_level, Length: 92, dtype: int64\n",
      "***\n",
      "***\n",
      "0.55    358\n",
      "0.50    353\n",
      "0.54    350\n",
      "0.51    345\n",
      "0.57    333\n",
      "0.49    332\n",
      "0.87    326\n",
      "0.53    324\n",
      "0.56    322\n",
      "0.85    316\n",
      "0.90    313\n",
      "0.52    308\n",
      "0.89    296\n",
      "0.84    294\n",
      "0.48    292\n",
      "0.91    287\n",
      "1.00    283\n",
      "0.97    276\n",
      "0.86    273\n",
      "0.93    269\n",
      "0.92    269\n",
      "0.83    269\n",
      "0.77    263\n",
      "0.94    263\n",
      "0.98    263\n",
      "0.74    260\n",
      "0.99    258\n",
      "0.95    258\n",
      "0.59    255\n",
      "0.81    255\n",
      "       ... \n",
      "0.82    237\n",
      "0.63    236\n",
      "0.64    235\n",
      "0.88    235\n",
      "0.61    234\n",
      "0.62    233\n",
      "0.58    225\n",
      "0.73    223\n",
      "0.66    222\n",
      "0.68    222\n",
      "0.60    221\n",
      "0.76    216\n",
      "0.78    214\n",
      "0.70    213\n",
      "0.72    211\n",
      "0.46    211\n",
      "0.65    201\n",
      "0.71    196\n",
      "0.69    193\n",
      "0.47    173\n",
      "0.45    115\n",
      "0.41     59\n",
      "0.40     57\n",
      "0.42     56\n",
      "0.37     55\n",
      "0.39     52\n",
      "0.43     50\n",
      "0.38     50\n",
      "0.44     44\n",
      "0.36     22\n",
      "Name: last_evaluation, Length: 65, dtype: int64\n",
      "***\n",
      "***\n",
      "4    4365\n",
      "3    4055\n",
      "5    2761\n",
      "2    2387\n",
      "6    1174\n",
      "7     256\n",
      "Name: number_project, dtype: int64\n",
      "***\n",
      "***\n",
      "156    153\n",
      "135    153\n",
      "149    148\n",
      "151    147\n",
      "160    136\n",
      "145    134\n",
      "140    129\n",
      "143    127\n",
      "257    126\n",
      "157    126\n",
      "155    125\n",
      "245    124\n",
      "260    124\n",
      "158    124\n",
      "148    123\n",
      "137    122\n",
      "153    122\n",
      "154    121\n",
      "159    121\n",
      "139    120\n",
      "147    118\n",
      "255    115\n",
      "134    114\n",
      "141    114\n",
      "254    113\n",
      "224    112\n",
      "142    112\n",
      "243    112\n",
      "152    112\n",
      "264    111\n",
      "      ... \n",
      "291     17\n",
      "309     16\n",
      "101     16\n",
      "294     16\n",
      "114     15\n",
      "290     15\n",
      "292     15\n",
      "307     14\n",
      "97      14\n",
      "115     14\n",
      "124     13\n",
      "293     13\n",
      "298     13\n",
      "295     12\n",
      "110     12\n",
      "118     12\n",
      "300     11\n",
      "99      11\n",
      "122     11\n",
      "119     10\n",
      "116     10\n",
      "120     10\n",
      "112     10\n",
      "107     10\n",
      "302      8\n",
      "297      7\n",
      "303      6\n",
      "288      6\n",
      "299      6\n",
      "96       6\n",
      "Name: average_monthly_hours, Length: 215, dtype: int64\n",
      "***\n",
      "***\n",
      "3     6442\n",
      "2     3244\n",
      "4     2557\n",
      "5     1473\n",
      "6      718\n",
      "10     214\n",
      "7      188\n",
      "8      162\n",
      "Name: time_spend_company, dtype: int64\n",
      "***\n",
      "***\n",
      "0    12829\n",
      "1     2169\n",
      "Name: Work_accident, dtype: int64\n",
      "***\n",
      "***\n",
      "0    14679\n",
      "1      319\n",
      "Name: promotion_last_5years, dtype: int64\n",
      "***\n",
      "***\n",
      "sales          4139\n",
      "technical      2720\n",
      "support        2229\n",
      "IT             1227\n",
      "product_mng     902\n",
      "marketing       858\n",
      "RandD           787\n",
      "accounting      767\n",
      "hr              739\n",
      "management      630\n",
      "Name: sales, dtype: int64\n",
      "***\n",
      "***\n",
      "low       7315\n",
      "medium    6446\n",
      "high      1237\n",
      "Name: salary, dtype: int64\n",
      "***\n",
      "***\n",
      "0.0    11428\n",
      "1.0     3570\n",
      "Name: left, dtype: int64\n",
      "***\n"
     ]
    }
   ],
   "source": [
    "for i in full_data.columns:\n",
    "    print(\"***\")\n",
    "    print(full_data[i].value_counts())\n",
    "    print(\"***\")"
   ]
  },
  {
   "cell_type": "markdown",
   "metadata": {},
   "source": [
    "<h3>2.2 Integration - Visualizing the data for better understanding</h3>"
   ]
  },
  {
   "cell_type": "code",
   "execution_count": 11,
   "metadata": {
    "scrolled": true
   },
   "outputs": [
    {
     "name": "stdout",
     "output_type": "stream",
     "text": [
      "low       7315\n",
      "medium    6446\n",
      "high      1237\n",
      "Name: salary, dtype: int64\n"
     ]
    },
    {
     "data": {
      "text/plain": [
       "(array([0, 1, 2]), <a list of 3 Text xticklabel objects>)"
      ]
     },
     "execution_count": 11,
     "metadata": {},
     "output_type": "execute_result"
    },
    {
     "data": {
      "image/png": "[encoded data removed]",
      "text/plain": [
       "<Figure size 432x288 with 1 Axes>"
      ]
     },
     "metadata": {
      "needs_background": "light"
     },
     "output_type": "display_data"
    }
   ],
   "source": [
    "print(full_data.salary.value_counts())\n",
    "sns.countplot(full_data['salary'],hue=full_data['left'])\n",
    "plt.xticks(rotation=80)"
   ]
  },
  {
   "cell_type": "code",
   "execution_count": 12,
   "metadata": {},
   "outputs": [],
   "source": [
    "group1 = full_data[(full_data.average_monthly_hours > 96) & (full_data.average_monthly_hours <= 139)]\n",
    "group2 = full_data[(full_data.average_monthly_hours > 140) & (full_data.average_monthly_hours <= 182)]\n",
    "group3 = full_data[(full_data.average_monthly_hours > 183) & (full_data.average_monthly_hours <= 225)]\n",
    "group4 = full_data[(full_data.average_monthly_hours > 226) & (full_                                                                                                                                                                                                                                                                                                                                                                                                                                                                                                                                                                                                                                                                                                                                                                                                                                                                                                                                                                                                                                                                                                                                                                                                                                                                                                                                                                                                                                                                                                                                                                                                                                                                                                                                                                                                                                                                                                                                                                                                                                                                                                                                                                                                                                                                                                                                                                                                                                                                                                                                                                                                                                                                                                                                                                                                                                                                                                                                                                                                                                                                                                                                                                                                                                                                                                                                                                                                                                                                                                                                                                                                                                                                                                                                                                                                                                                                                                                                                                                                                                                                                                                                                                                                                                                                                                                                                                                                                                                                                                                                                                                                                                                                                                                                                                                                                                                                                                                                                                                                                                                                                                                                                                                                                                                                                                                                                                                                                                                                                                                                                                                                                                                                                                                                                                                                                                                                                                                                                                                                                                                                                                                                                                                                                                                                                                                                                                                                                                                                                                                                                                                                                                                                                                                                                                                                                                                                                                                                                                                                                                                                                                                                                                                                                                                                                                                                                                                                                                                                                                                                                                                                                                                                                                                                                                                                                                                                                                                                                                                                                                                                                                                                                                                                                                                                                                                                                                                                                                                                                                                                                                                                                                                                                                                                                                                                                                                                                                                                                                                                                                                                                                                                                                                                                                                                                                                                                                                                                                                                                                                                                                                                                                                                                                                                                                                                                                                                                                                                                                                                                                                                                                                                                                                                                                                                                                                                                                                                                                                                                                                                                                                                                                                                                                                                                                                                                                                                                                                                                                                                                                                                                                                                                                                                                                                                                                                                                                                                                                                                                                                                                                                                                                                                                                                                                                                                                                                                                                                                                                                                                                                                                                                                                                                                                                                                                                                                                                                                                                                                                                                                                                                                                                                                                                                                                                                                                            ,ḥṅ hhhhw22222222222hhhhhhhhhhhhhhhhhhhhhhhhhhhhhhhhhhhhhhhhhhhhhhhhhhhhhhhhhhhhhhhhhhhhhhhhhhhhhhhhhhhhhhhhhhhhhhhhhhhhhhhhhhhhhhhhhhhhhhhhhhhhhhhhhhhhhhhhhhhhhhhhhhhhhhhhhhhhhhhhhhhhhhhhhhhhhhhhhhhhhhhhhhhhhhhhhhhhhhhhhdata.average_monthly_hours <= 268)]\n",
    "group5 = full_data[(full_data.average_monthly_hours > 269) & (full_data.average_monthly_hours <= 310)]"
   ]
  },
  {
   "cell_type": "code",
   "execution_count": 13,
   "metadata": {},
   "outputs": [],
   "source": [
    "group1_left = full_data[(full_data.average_monthly_hours > 96) & (full_data.average_monthly_hours <= 139) & (full_data.left == 1.0)]\n",
    "group2_left = full_data[(full_data.average_monthly_hours > 140) & (full_data.average_monthly_hours <= 182) & (full_data.left == 1.0)]\n",
    "group3_left = full_data[(full_data.average_monthly_hours > 183) & (full_data.average_monthly_hours <= 225) & (full_data.left == 1.0)]\n",
    "group4_left = full_data[(full_data.average_monthly_hours > 226) & (full_data.average_monthly_hours <= 268) & (full_data.left == 1.0)]\n",
    "group5_left = full_data[(full_data.average_monthly_hours > 269) & (full_data.average_monthly_hours <= 310) & (full_data.left == 1.0)]"
   ]
  },
  {
   "cell_type": "code",
   "execution_count": 14,
   "metadata": {
    "scrolled": true
   },
   "outputs": [
    {
     "name": "stdout",
     "output_type": "stream",
     "text": [
      "Average Monthly Hours \t Total Peoples \t\t People who left\n",
      "96 to 139 \t\t 1721 \t\t\t\t 594\n",
      "140 to 182\t\t 4280 \t\t\t\t 989\n",
      "183 to 225\t\t 3276 \t\t\t\t 170\n",
      "226 to 268\t\t 4051 \t\t\t\t 1044\n",
      "269 to 310\t\t 1256 \t\t\t\t 674\n"
     ]
    }
   ],
   "source": [
    "print('Average Monthly Hours \\t Total Peoples \\t\\t People who left')\n",
    "print('96 to 139 \\t\\t',group1.count()[0],'\\t\\t\\t\\t',group1_left.count()[0])\n",
    "print(\"140 to 182\\t\\t\",group2.count()[0],'\\t\\t\\t\\t',group2_left.count()[0])\n",
    "print(\"183 to 225\\t\\t\",group3.count()[0],'\\t\\t\\t\\t',group3_left.count()[0])\n",
    "print(\"226 to 268\\t\\t\",group4.count()[0],'\\t\\t\\t\\t',group4_left.count()[0])\n",
    "print(\"269 to 310\\t\\t\",group5.count()[0],'\\t\\t\\t\\t',group5_left.count()[0])"
   ]
  },
  {
   "cell_type": "code",
   "execution_count": 15,
   "metadata": {
    "scrolled": false
   },
   "outputs": [
    {
     "data": {
      "text/plain": [
       "Text(0.5, 1.0, 'Trade off between work hours and left')"
      ]
     },
     "execution_count": 15,
     "metadata": {},
     "output_type": "execute_result"
    },
    {
     "data": {
      "image/png": "[encoded data removed]",
      "text/plain": [
       "<Figure size 432x288 with 1 Axes>"
      ]
     },
     "metadata": {
      "needs_background": "light"
     },
     "output_type": "display_data"
    }
   ],
   "source": [
    "Total_peoples=[1721,4280,3276,4051,1256]\n",
    "peoplewholeft=[594,989,170,1044,674]\n",
    "groups=['96-139','140-182','183-225','226-268','269-310']\n",
    "df=pd.DataFrame({'Total_peoples':Total_peoples,'peoplewholeft':peoplewholeft},index=groups)\n",
    "df.plot.bar(rot=24)\n",
    "plt.title('Trade off between work hours and left')"
   ]
  },
  {
   "cell_type": "code",
   "execution_count": 87,
   "metadata": {},
   "outputs": [
    {
     "data": {
      "image/png": "[encoded data removed]",
      "text/plain": [
       "<Figure size 432x288 with 1 Axes>"
      ]
     },
     "metadata": {},
     "output_type": "display_data"
    }
   ],
   "source": [
    "full_data.time_spend_company.value_counts()\n",
    "plt.title('Time Spend Company')\n",
    "activities = [3,2,4,5,'others']\n",
    "relationship = [6442,3244,2557,1473,1282]\n",
    "plt.pie(relationship, labels=activities,  startangle=90, autopct='%.1f%%')\n",
    "plt.show()"
   ]
  },
  {
   "cell_type": "code",
   "execution_count": 91,
   "metadata": {},
   "outputs": [],
   "source": [
    "group1 = full_data[(full_data.satisfaction_level <= 0.10)]\n",
    "group2 = full_data[(full_data.satisfaction_level > 0.11) & (full_data.satisfaction_level <= 0.20)]\n",
    "group3 = full_data[(full_data.satisfaction_level > 0.21) & (full_data.satisfaction_level <= 0.30)]\n",
    "group4 = full_data[(full_data.satisfaction_level > 0.31) & (full_data.satisfaction_level <= 0.40)]\n",
    "group5 = full_data[(full_data.satisfaction_level > 0.41) & (full_data.satisfaction_level <= 0.50)]\n",
    "group6 = full_data[(full_data.satisfaction_level > 0.51) & (full_data.satisfaction_level <= 0.60)]\n",
    "group7 = full_data[(full_data.satisfaction_level > 0.61) & (full_data.satisfaction_level <= 0.70)]\n",
    "group8 = full_data[(full_data.satisfaction_level > 0.71) & (full_data.satisfaction_level <= 0.80)]\n",
    "group9 = full_data[(full_data.satisfaction_level > 0.81) & (full_data.satisfaction_level <= 0.90)]\n",
    "group10 = full_data[(full_data.satisfaction_level > 0.91) & (full_data.satisfaction_level <= 1.0)]"
   ]
  },
  {
   "cell_type": "code",
   "execution_count": 92,
   "metadata": {},
   "outputs": [],
   "source": [
    "group1_left = full_data[(full_data.satisfaction_level <= 0.10) & (full_data.left == 1.0)]\n",
    "group2_left = full_data[(full_data.satisfaction_level > 0.11) & (full_data.satisfaction_level <= 0.20) & (full_data.left == 1.0)]\n",
    "group3_left = full_data[(full_data.satisfaction_level > 0.21) & (full_data.satisfaction_level <= 0.30) & (full_data.left == 1.0)]\n",
    "group4_left = full_data[(full_data.satisfaction_level > 0.31) & (full_data.satisfaction_level <= 0.40) & (full_data.left == 1.0)]\n",
    "group5_left = full_data[(full_data.satisfaction_level > 0.41) & (full_data.satisfaction_level <= 0.50) & (full_data.left == 1.0)]\n",
    "group6_left = full_data[(full_data.satisfaction_level > 0.51) & (full_data.satisfaction_level <= 0.60) & (full_data.left == 1.0)]\n",
    "group7_left = full_data[(full_data.satisfaction_level > 0.61) & (full_data.satisfaction_level <= 0.70) & (full_data.left == 1.0)]\n",
    "group8_left = full_data[(full_data.satisfaction_level > 0.71) & (full_data.satisfaction_level <= 0.80) & (full_data.left == 1.0)]\n",
    "group9_left = full_data[(full_data.satisfaction_level > 0.81) & (full_data.satisfaction_level <= 0.90) & (full_data.left == 1.0)]\n",
    "group10_left = full_data[(full_data.satisfaction_level > 0.91) & (full_data.satisfaction_level <= 1.0) & (full_data.left == 1.0)]"
   ]
  },
  {
   "cell_type": "code",
   "execution_count": 93,
   "metadata": {
    "scrolled": true
   },
   "outputs": [
    {
     "name": "stdout",
     "output_type": "stream",
     "text": [
      "satisfaction_level \t Total Peoples \t\t People who left\n",
      "0 to 0.1 \t\t 553 \t\t\t\t 553\n",
      "0.11 to 0.2\t\t 590 \t\t\t\t 36\n",
      "0.21 to 0.3\t\t 396 \t\t\t\t 22\n",
      "0.31 to 0.4\t\t 1123 \t\t\t\t 770\n",
      "0.41 to 0.5\t\t 1517 \t\t\t\t 683\n",
      "0.51 to 0.6 \t\t 1730 \t\t\t\t 553\n",
      "0.61 to 0.7\t\t 1764 \t\t\t\t 36\n",
      "0.71 to 0.8\t\t 2125 \t\t\t\t 22\n",
      "0.81 to 0.9\t\t 1998 \t\t\t\t 770\n",
      "0.91 to 1\t\t 1560 \t\t\t\t 683\n"
     ]
    }
   ],
   "source": [
    "print('satisfaction_level \\t Total Peoples \\t\\t People who left')\n",
    "print('0 to 0.1 \\t\\t',group1.count()[0],'\\t\\t\\t\\t',group1_left.count()[0])\n",
    "print(\"0.11 to 0.2\\t\\t\",group2.count()[0],'\\t\\t\\t\\t',group2_left.count()[0])\n",
    "print(\"0.21 to 0.3\\t\\t\",group3.count()[0],'\\t\\t\\t\\t',group3_left.count()[0])\n",
    "print(\"0.31 to 0.4\\t\\t\",group4.count()[0],'\\t\\t\\t\\t',group4_left.count()[0])\n",
    "print(\"0.41 to 0.5\\t\\t\",group5.count()[0],'\\t\\t\\t\\t',group5_left.count()[0])\n",
    "print('0.51 to 0.6 \\t\\t',group6.count()[0],'\\t\\t\\t\\t',group1_left.count()[0])\n",
    "print(\"0.61 to 0.7\\t\\t\",group7.count()[0],'\\t\\t\\t\\t',group2_left.count()[0])\n",
    "print(\"0.71 to 0.8\\t\\t\",group8.count()[0],'\\t\\t\\t\\t',group3_left.count()[0])\n",
    "print(\"0.81 to 0.9\\t\\t\",group9.count()[0],'\\t\\t\\t\\t',group4_left.count()[0])\n",
    "print(\"0.91 to 1\\t\\t\",group10.count()[0],'\\t\\t\\t\\t',group5_left.count()[0])"
   ]
  },
  {
   "cell_type": "code",
   "execution_count": 106,
   "metadata": {
    "scrolled": false
   },
   "outputs": [
    {
     "data": {
      "text/plain": [
       "Text(0.5, 1.0, 'Trade off between satisfaction level and left')"
      ]
     },
     "execution_count": 106,
     "metadata": {},
     "output_type": "execute_result"
    },
    {
     "data": {
      "image/png": "[encoded data removed]",
      "text/plain": [
       "<Figure size 432x288 with 1 Axes>"
      ]
     },
     "metadata": {
      "needs_background": "light"
     },
     "output_type": "display_data"
    }
   ],
   "source": [
    "Total_peoples=[553,590,396,1123,1517,1730,1764,2125,1998,1560]\n",
    "peoplewholeft=[553,36,22,770,683,553,36,22,770,683]\n",
    "groups=['0 to 0.1','0.11 to 0.2','0.21 to 0.3','0.31 to 0.4','0.41 to 0.5','0.51 to 0.6','0.61 to 0.7','0.71 to 0.8','0.81 to 0.9','0.91 to 1']\n",
    "df=pd.DataFrame({'Total_peoples':Total_peoples,'peoplewholeft':peoplewholeft},index=groups)\n",
    "df.plot.bar(rot=40)\n",
    "plt.title('Trade off between satisfaction level and left')"
   ]
  },
  {
   "cell_type": "code",
   "execution_count": 102,
   "metadata": {},
   "outputs": [],
   "source": [
    "group1 = full_data[(full_data.number_project == 2)]\n",
    "group2 = full_data[(full_data.number_project == 3)]\n",
    "group3 = full_data[(full_data.number_project == 4)]\n",
    "group4 = full_data[(full_data.number_project == 5)]\n",
    "group5 = full_data[(full_data.number_project == 6)]\n",
    "group6 = full_data[(full_data.number_project == 7)]"
   ]
  },
  {
   "cell_type": "code",
   "execution_count": 103,
   "metadata": {},
   "outputs": [],
   "source": [
    "group1_left = full_data[(full_data.number_project == 2) & (full_data.left == 1.0)]\n",
    "group2_left = full_data[(full_data.number_project == 3) & (full_data.left == 1.0)]\n",
    "group3_left = full_data[(full_data.number_project == 4) & (full_data.left == 1.0)]\n",
    "group4_left = full_data[(full_data.number_project == 5) & (full_data.left == 1.0)]\n",
    "group5_left = full_data[(full_data.number_project == 6) & (full_data.left == 1.0)]\n",
    "group6_left = full_data[(full_data.number_project == 7) & (full_data.left == 1.0)]"
   ]
  },
  {
   "cell_type": "code",
   "execution_count": 105,
   "metadata": {},
   "outputs": [
    {
     "name": "stdout",
     "output_type": "stream",
     "text": [
      "number_project \t Total Peoples \t\t People who left\n",
      "2\t\t 2387 \t\t\t\t 1566\n",
      "3\t\t 4055 \t\t\t\t 72\n",
      "4\t\t 4365 \t\t\t\t 409\n",
      "5\t\t 2761 \t\t\t\t 612\n",
      "6\t\t 1174 \t\t\t\t 655\n",
      "7\t\t 256 \t\t\t\t 256\n"
     ]
    }
   ],
   "source": [
    "print('number_project \\t Total Peoples \\t\\t People who left')\n",
    "print('2\\t\\t',group1.count()[0],'\\t\\t\\t\\t',group1_left.count()[0])\n",
    "print(\"3\\t\\t\",group2.count()[0],'\\t\\t\\t\\t',group2_left.count()[0])\n",
    "print(\"4\\t\\t\",group3.count()[0],'\\t\\t\\t\\t',group3_left.count()[0])\n",
    "print(\"5\\t\\t\",group4.count()[0],'\\t\\t\\t\\t',group4_left.count()[0])\n",
    "print(\"6\\t\\t\",group5.count()[0],'\\t\\t\\t\\t',group5_left.count()[0])\n",
    "print(\"7\\t\\t\",group6.count()[0],'\\t\\t\\t\\t',group6_left.count()[0])"
   ]
  },
  {
   "cell_type": "code",
   "execution_count": 110,
   "metadata": {
    "scrolled": true
   },
   "outputs": [
    {
     "data": {
      "text/plain": [
       "Text(0.5, 1.0, 'Trade off between project number and left')"
      ]
     },
     "execution_count": 110,
     "metadata": {},
     "output_type": "execute_result"
    },
    {
     "data": {
      "image/png": "[encoded data removed]",
      "text/plain": [
       "<Figure size 432x288 with 1 Axes>"
      ]
     },
     "metadata": {
      "needs_background": "light"
     },
     "output_type": "display_data"
    }
   ],
   "source": [
    "Total_peoples=[2387,4055,4365,2761,1174,256]\n",
    "peoplewholeft=[1566,72,409,612,655,256]\n",
    "groups=[2,3,4,5,6,7]\n",
    "df=pd.DataFrame({'Total_peoples':Total_peoples,'peoplewholeft':peoplewholeft},index=groups)\n",
    "df.plot.bar(rot=40)\n",
    "plt.title('Trade off between project number and left')"
   ]
  },
  {
   "cell_type": "code",
   "execution_count": 118,
   "metadata": {},
   "outputs": [],
   "source": [
    "group1 = full_data[(full_data.last_evaluation > 0.36) & (full_data.last_evaluation <= 0.52)]\n",
    "group2 = full_data[(full_data.last_evaluation > 0.53) & (full_data.last_evaluation <= 0.68)]\n",
    "group3 = full_data[(full_data.last_evaluation > 0.69) & (full_data.last_evaluation <= 0.84)]\n",
    "group4 = full_data[(full_data.last_evaluation > 0.85) & (full_data.last_evaluation <= 1)]"
   ]
  },
  {
   "cell_type": "code",
   "execution_count": 120,
   "metadata": {},
   "outputs": [],
   "source": [
    "group1_left = full_data[(full_data.last_evaluation > 0.36) & (full_data.last_evaluation <= 0.52) & (full_data.left == 1.0)]\n",
    "group2_left = full_data[(full_data.last_evaluation > 0.53) & (full_data.last_evaluation <= 0.68) & (full_data.left == 1.0)]\n",
    "group3_left = full_data[(full_data.last_evaluation > 0.69) & (full_data.last_evaluation <= 0.84) & (full_data.left == 1.0)]\n",
    "group4_left = full_data[(full_data.last_evaluation > 0.85) & (full_data.last_evaluation <= 1) & (full_data.left == 1.0)]"
   ]
  },
  {
   "cell_type": "code",
   "execution_count": 124,
   "metadata": {},
   "outputs": [
    {
     "name": "stdout",
     "output_type": "stream",
     "text": [
      "last_evaluation \t Total Peoples \t\t People who left\n",
      "0.36 to 0.52\t\t 2884 \t\t\t\t 1476\n",
      "0.53 to 0.68 \t\t 2913 \t\t\t\t 65\n",
      "0.69 to 0.85\t\t 3443 \t\t\t\t 612\n",
      "0.86 to 1\t\t 2853 \t\t\t\t 295\n"
     ]
    }
   ],
   "source": [
    "print('last_evaluation \\t Total Peoples \\t\\t People who left')\n",
    "print('0.36 to 0.52\\t\\t',group1.count()[0],'\\t\\t\\t\\t',group1_left.count()[0])\n",
    "print(\"0.53 to 0.68 \\t\\t\",group2.count()[0],'\\t\\t\\t\\t',group2_left.count()[0])\n",
    "print(\"0.69 to 0.85\\t\\t\",group3.count()[0],'\\t\\t\\t\\t',group3_left.count()[0])\n",
    "print(\"0.86 to 1\\t\\t\",group4.count()[0],'\\t\\t\\t\\t',group4_left.count()[0])"
   ]
  },
  {
   "cell_type": "code",
   "execution_count": 125,
   "metadata": {
    "scrolled": true
   },
   "outputs": [
    {
     "data": {
      "text/plain": [
       "Text(0.5, 1.0, 'Trade off between last_evaluation number and left')"
      ]
     },
     "execution_count": 125,
     "metadata": {},
     "output_type": "execute_result"
    },
    {
     "data": {
      "image/png": "[encoded data removed]",
      "text/plain": [
       "<Figure size 432x288 with 1 Axes>"
      ]
     },
     "metadata": {
      "needs_background": "light"
     },
     "output_type": "display_data"
    }
   ],
   "source": [
    "Total_peoples=[2884,2913,3443,2853]\n",
    "peoplewholeft=[1476,65,612,295]\n",
    "groups=['0.36 - 0.52','0.53 - 0.68','0.69 - 0.85','0.86 - 1.00']\n",
    "df=pd.DataFrame({'Total_peoples':Total_peoples,'peoplewholeft':peoplewholeft},index=groups)\n",
    "df.plot.bar(rot=24)\n",
    "plt.title('Trade off between last_evaluation number and left')"
   ]
  },
  {
   "cell_type": "markdown",
   "metadata": {},
   "source": [
    "<h3>2.3 Transforming the data</h3>"
   ]
  },
  {
   "cell_type": "code",
   "execution_count": 16,
   "metadata": {},
   "outputs": [],
   "source": [
    "le = LabelEncoder()"
   ]
  },
  {
   "cell_type": "code",
   "execution_count": 17,
   "metadata": {},
   "outputs": [
    {
     "data": {
      "text/html": [
       "<div>\n",
       "<style scoped>\n",
       "    .dataframe tbody tr th:only-of-type {\n",
       "        vertical-align: middle;\n",
       "    }\n",
       "\n",
       "    .dataframe tbody tr th {\n",
       "        vertical-align: top;\n",
       "    }\n",
       "\n",
       "    .dataframe thead th {\n",
       "        text-align: right;\n",
       "    }\n",
       "</style>\n",
       "<table border=\"1\" class=\"dataframe\">\n",
       "  <thead>\n",
       "    <tr style=\"text-align: right;\">\n",
       "      <th></th>\n",
       "      <th>satisfaction_level</th>\n",
       "      <th>last_evaluation</th>\n",
       "      <th>number_project</th>\n",
       "      <th>average_monthly_hours</th>\n",
       "      <th>time_spend_company</th>\n",
       "      <th>Work_accident</th>\n",
       "      <th>promotion_last_5years</th>\n",
       "      <th>sales</th>\n",
       "      <th>salary</th>\n",
       "      <th>left</th>\n",
       "    </tr>\n",
       "  </thead>\n",
       "  <tbody>\n",
       "    <tr>\n",
       "      <th>0</th>\n",
       "      <td>0.38</td>\n",
       "      <td>0.53</td>\n",
       "      <td>2</td>\n",
       "      <td>157</td>\n",
       "      <td>3</td>\n",
       "      <td>0</td>\n",
       "      <td>0</td>\n",
       "      <td>7</td>\n",
       "      <td>1</td>\n",
       "      <td>1.0</td>\n",
       "    </tr>\n",
       "    <tr>\n",
       "      <th>1</th>\n",
       "      <td>0.80</td>\n",
       "      <td>0.86</td>\n",
       "      <td>5</td>\n",
       "      <td>262</td>\n",
       "      <td>6</td>\n",
       "      <td>0</td>\n",
       "      <td>0</td>\n",
       "      <td>7</td>\n",
       "      <td>2</td>\n",
       "      <td>1.0</td>\n",
       "    </tr>\n",
       "    <tr>\n",
       "      <th>2</th>\n",
       "      <td>0.11</td>\n",
       "      <td>0.88</td>\n",
       "      <td>7</td>\n",
       "      <td>272</td>\n",
       "      <td>4</td>\n",
       "      <td>0</td>\n",
       "      <td>0</td>\n",
       "      <td>7</td>\n",
       "      <td>2</td>\n",
       "      <td>1.0</td>\n",
       "    </tr>\n",
       "    <tr>\n",
       "      <th>3</th>\n",
       "      <td>0.72</td>\n",
       "      <td>0.87</td>\n",
       "      <td>5</td>\n",
       "      <td>223</td>\n",
       "      <td>5</td>\n",
       "      <td>0</td>\n",
       "      <td>0</td>\n",
       "      <td>7</td>\n",
       "      <td>1</td>\n",
       "      <td>1.0</td>\n",
       "    </tr>\n",
       "    <tr>\n",
       "      <th>4</th>\n",
       "      <td>0.37</td>\n",
       "      <td>0.52</td>\n",
       "      <td>2</td>\n",
       "      <td>159</td>\n",
       "      <td>3</td>\n",
       "      <td>0</td>\n",
       "      <td>0</td>\n",
       "      <td>7</td>\n",
       "      <td>1</td>\n",
       "      <td>1.0</td>\n",
       "    </tr>\n",
       "  </tbody>\n",
       "</table>\n",
       "</div>"
      ],
      "text/plain": [
       "   satisfaction_level  last_evaluation  number_project  average_monthly_hours  \\\n",
       "0                0.38             0.53               2                    157   \n",
       "1                0.80             0.86               5                    262   \n",
       "2                0.11             0.88               7                    272   \n",
       "3                0.72             0.87               5                    223   \n",
       "4                0.37             0.52               2                    159   \n",
       "\n",
       "   time_spend_company  Work_accident  promotion_last_5years  sales  salary  \\\n",
       "0                   3              0                      0      7       1   \n",
       "1                   6              0                      0      7       2   \n",
       "2                   4              0                      0      7       2   \n",
       "3                   5              0                      0      7       1   \n",
       "4                   3              0                      0      7       1   \n",
       "\n",
       "   left  \n",
       "0   1.0  \n",
       "1   1.0  \n",
       "2   1.0  \n",
       "3   1.0  \n",
       "4   1.0  "
      ]
     },
     "execution_count": 17,
     "metadata": {},
     "output_type": "execute_result"
    }
   ],
   "source": [
    "full_data.sales = le.fit_transform(full_data['sales'])\n",
    "full_data.salary = le.fit_transform(full_data['salary'])\n",
    "full_data.head()"
   ]
  },
  {
   "cell_type": "markdown",
   "metadata": {},
   "source": [
    "<h3>2.4 Feature Engineering</h3>\n",
    "</br>\n",
    "<b>Using PCA to optimize the model</b>\n",
    "</br>\n",
    "Principal component analysis (PCA) is a statistical procedure that uses an orthogonal transformation to convert a set of observations of possibly correlated variables (entities each of which takes on various numerical values) into a set of values of linearly uncorrelated variables called principal components"
   ]
  },
  {
   "cell_type": "markdown",
   "metadata": {},
   "source": [
    "<h3>3. Data Splitting - Training and Testing data</h3>"
   ]
  },
  {
   "cell_type": "code",
   "execution_count": 18,
   "metadata": {},
   "outputs": [],
   "source": [
    "y = full_data.left\n",
    "X = full_data.drop('left',1)"
   ]
  },
  {
   "cell_type": "code",
   "execution_count": 19,
   "metadata": {},
   "outputs": [
    {
     "name": "stdout",
     "output_type": "stream",
     "text": [
      "Total dataset -  (14998, 9) (14998,)\n",
      "Training dataset -  (11998, 9) (11998,)\n",
      "Testing dataset -  (3000, 9) (3000,)\n"
     ]
    }
   ],
   "source": [
    "# Split the 'features' and 'income' data into training and testing sets\n",
    "X_train, X_test, y_train, y_test = train_test_split(X, \n",
    "                                                    y, \n",
    "                                                    test_size = 0.2, \n",
    "                                                    random_state = 0)\n",
    "# create training and testing vars\n",
    "print (\"Total dataset - \", X.shape, y.shape)\n",
    "print (\"Training dataset - \", X_train.shape, y_train.shape)\n",
    "print (\"Testing dataset - \", X_test.shape, y_test.shape)"
   ]
  },
  {
   "cell_type": "markdown",
   "metadata": {},
   "source": [
    "<h3>4. Model Training</h3>"
   ]
  },
  {
   "cell_type": "code",
   "execution_count": 20,
   "metadata": {},
   "outputs": [
    {
     "name": "stdout",
     "output_type": "stream",
     "text": [
      "              precision    recall  f1-score   support\n",
      "\n",
      "         0.0       0.77      1.00      0.87      2272\n",
      "         1.0       0.98      0.08      0.15       728\n",
      "\n",
      "    accuracy                           0.78      3000\n",
      "   macro avg       0.88      0.54      0.51      3000\n",
      "weighted avg       0.82      0.78      0.70      3000\n",
      "\n"
     ]
    }
   ],
   "source": [
    "model = SVC() \n",
    "model.fit(X_train, y_train) \n",
    "\n",
    "# print prediction results \n",
    "predictions = model.predict(X_test) \n",
    "print(classification_report(y_test, predictions))"
   ]
  },
  {
   "cell_type": "markdown",
   "metadata": {},
   "source": [
    "<h3>5. Model Evaluation</h3>"
   ]
  },
  {
   "cell_type": "code",
   "execution_count": 21,
   "metadata": {},
   "outputs": [],
   "source": [
    "y_train_pred = model.predict(X_train)\n",
    "y_test_pred = model.predict(X_test)"
   ]
  },
  {
   "cell_type": "markdown",
   "metadata": {},
   "source": [
    "<h3>Verifying the result using the accuracy of the model</h3>\n",
    "\n",
    "<b>Accuracy:</b> The amount of correct classifications / the total amount of classifications.<br/>\n",
    "<b>Train Accuracy:</b> The accuracy of a model on examples it was constructed on.\n",
    "<b>Test Accuracy:</b> The accuracy of a model on examples it hasn't seen."
   ]
  },
  {
   "cell_type": "code",
   "execution_count": 22,
   "metadata": {
    "scrolled": false
   },
   "outputs": [
    {
     "name": "stdout",
     "output_type": "stream",
     "text": [
      "Fitting 5 folds for each of 1 candidates, totalling 5 fits\n",
      "[CV] C=0.1, gamma=0.01, kernel=rbf ...................................\n"
     ]
    },
    {
     "name": "stderr",
     "output_type": "stream",
     "text": [
      "[Parallel(n_jobs=1)]: Using backend SequentialBackend with 1 concurrent workers.\n"
     ]
    },
    {
     "name": "stdout",
     "output_type": "stream",
     "text": [
      "[CV] ....... C=0.1, gamma=0.01, kernel=rbf, score=0.881, total=   1.5s\n",
      "[CV] C=0.1, gamma=0.01, kernel=rbf ...................................\n"
     ]
    },
    {
     "name": "stderr",
     "output_type": "stream",
     "text": [
      "[Parallel(n_jobs=1)]: Done   1 out of   1 | elapsed:    1.4s remaining:    0.0s\n"
     ]
    },
    {
     "name": "stdout",
     "output_type": "stream",
     "text": [
      "[CV] ....... C=0.1, gamma=0.01, kernel=rbf, score=0.875, total=   1.5s\n",
      "[CV] C=0.1, gamma=0.01, kernel=rbf ...................................\n"
     ]
    },
    {
     "name": "stderr",
     "output_type": "stream",
     "text": [
      "[Parallel(n_jobs=1)]: Done   2 out of   2 | elapsed:    2.8s remaining:    0.0s\n"
     ]
    },
    {
     "name": "stdout",
     "output_type": "stream",
     "text": [
      "[CV] ....... C=0.1, gamma=0.01, kernel=rbf, score=0.872, total=   1.5s\n",
      "[CV] C=0.1, gamma=0.01, kernel=rbf ...................................\n",
      "[CV] ....... C=0.1, gamma=0.01, kernel=rbf, score=0.877, total=   1.4s\n",
      "[CV] C=0.1, gamma=0.01, kernel=rbf ...................................\n",
      "[CV] ....... C=0.1, gamma=0.01, kernel=rbf, score=0.880, total=   1.4s\n"
     ]
    },
    {
     "name": "stderr",
     "output_type": "stream",
     "text": [
      "[Parallel(n_jobs=1)]: Done   5 out of   5 | elapsed:    7.1s finished\n"
     ]
    },
    {
     "data": {
      "text/plain": [
       "GridSearchCV(cv=None, error_score=nan,\n",
       "             estimator=SVC(C=1.0, break_ties=False, cache_size=200,\n",
       "                           class_weight=None, coef0=0.0,\n",
       "                           decision_function_shape='ovr', degree=3,\n",
       "                           gamma='scale', kernel='rbf', max_iter=-1,\n",
       "                           probability=False, random_state=None, shrinking=True,\n",
       "                           tol=0.001, verbose=False),\n",
       "             iid='deprecated', n_jobs=None,\n",
       "             param_grid={'C': [0.1], 'gamma': [0.01], 'kernel': ['rbf']},\n",
       "             pre_dispatch='2*n_jobs', refit=True, return_train_score=False,\n",
       "             scoring=None, verbose=3)"
      ]
     },
     "execution_count": 22,
     "metadata": {},
     "output_type": "execute_result"
    }
   ],
   "source": [
    "from sklearn.model_selection import GridSearchCV \n",
    "\n",
    "# defining parameter range \n",
    "param_grid = {'C': [0.1], \n",
    "\t\t\t'gamma': [0.01], \n",
    "\t\t\t'kernel': ['rbf']} \n",
    "\n",
    "grid = GridSearchCV(SVC(), param_grid, refit = True, verbose = 3) \n",
    "\n",
    "# fitting the model for grid search \n",
    "grid.fit(X_train, y_train) "
   ]
  },
  {
   "cell_type": "code",
   "execution_count": 23,
   "metadata": {
    "scrolled": true
   },
   "outputs": [
    {
     "name": "stdout",
     "output_type": "stream",
     "text": [
      "{'C': 0.1, 'gamma': 0.01, 'kernel': 'rbf'}\n",
      "SVC(C=0.1, break_ties=False, cache_size=200, class_weight=None, coef0=0.0,\n",
      "    decision_function_shape='ovr', degree=3, gamma=0.01, kernel='rbf',\n",
      "    max_iter=-1, probability=False, random_state=None, shrinking=True,\n",
      "    tol=0.001, verbose=False)\n"
     ]
    }
   ],
   "source": [
    "# print best parameter after tuning \n",
    "print(grid.best_params_) \n",
    "\n",
    "# print how our model looks after hyper-parameter tuning \n",
    "print(grid.best_estimator_) "
   ]
  },
  {
   "cell_type": "code",
   "execution_count": 24,
   "metadata": {},
   "outputs": [
    {
     "name": "stdout",
     "output_type": "stream",
     "text": [
      "              precision    recall  f1-score   support\n",
      "\n",
      "         0.0       0.90      0.96      0.93      2272\n",
      "         1.0       0.84      0.66      0.74       728\n",
      "\n",
      "    accuracy                           0.89      3000\n",
      "   macro avg       0.87      0.81      0.83      3000\n",
      "weighted avg       0.88      0.89      0.88      3000\n",
      "\n"
     ]
    }
   ],
   "source": [
    "grid_train_predictions = grid.predict(X_train) \n",
    "grid_test_predictions = grid.predict(X_test) \n",
    "\n",
    "# print classification report \n",
    "print(classification_report(y_test, grid_test_predictions)) \n"
   ]
  },
  {
   "cell_type": "code",
   "execution_count": 26,
   "metadata": {
    "scrolled": true
   },
   "outputs": [
    {
     "name": "stdout",
     "output_type": "stream",
     "text": [
      "The training accuracy is 0.8905650941823637\n",
      "The test accuracy is 0.887\n"
     ]
    }
   ],
   "source": [
    "train_accuracy = accuracy_score(y_train, grid_train_predictions)\n",
    "test_accuracy = accuracy_score(y_test, grid_test_predictions)\n",
    "print('The training accuracy is', train_accuracy)\n",
    "print('The test accuracy is', test_accuracy)"
   ]
  },
  {
   "cell_type": "code",
   "execution_count": 41,
   "metadata": {},
   "outputs": [],
   "source": [
    "pca = PCA(n_components=5)# adjust yourself\n",
    "pca.fit(X_train)\n",
    "X_t_train = pca.transform(X_train)\n",
    "X_t_test = pca.transform(X_test)"
   ]
  },
  {
   "cell_type": "code",
   "execution_count": 42,
   "metadata": {
    "scrolled": true
   },
   "outputs": [
    {
     "name": "stdout",
     "output_type": "stream",
     "text": [
      "score 0.8626666666666667\n",
      "pred label [1. 0. 0. ... 1. 0. 0.]\n"
     ]
    }
   ],
   "source": [
    "clf = SVC()\n",
    "clf.fit(X_t_train, y_train)\n",
    "print('score', clf.score(X_t_test, y_test))\n",
    "print('pred label', clf.predict(X_t_test))"
   ]
  },
  {
   "cell_type": "markdown",
   "metadata": {},
   "source": [
    "<h3>Using Deep learning algorithm</h3>\n",
    "<p>Defining the model architecture - Here's where we use Keras to build our neural network.<p>"
   ]
  },
  {
   "cell_type": "code",
   "execution_count": 78,
   "metadata": {},
   "outputs": [
    {
     "name": "stdout",
     "output_type": "stream",
     "text": [
      "Model: \"sequential_6\"\n",
      "_________________________________________________________________\n",
      "Layer (type)                 Output Shape              Param #   \n",
      "=================================================================\n",
      "dense_16 (Dense)             (None, 128)               1280      \n",
      "_________________________________________________________________\n",
      "dropout_11 (Dropout)         (None, 128)               0         \n",
      "_________________________________________________________________\n",
      "dense_17 (Dense)             (None, 64)                8256      \n",
      "_________________________________________________________________\n",
      "dropout_12 (Dropout)         (None, 64)                0         \n",
      "_________________________________________________________________\n",
      "dense_18 (Dense)             (None, 1)                 65        \n",
      "=================================================================\n",
      "Total params: 9,601\n",
      "Trainable params: 9,601\n",
      "Non-trainable params: 0\n",
      "_________________________________________________________________\n"
     ]
    }
   ],
   "source": [
    "# Imports\n",
    "import numpy as np\n",
    "from keras.models import Sequential\n",
    "from keras.layers.core import Dense, Dropout, Activation\n",
    "from keras.optimizers import SGD\n",
    "from keras.utils import np_utils\n",
    "\n",
    "# Building the model\n",
    "model = Sequential()\n",
    "model.add(Dense(128, activation='relu', input_shape=(9,)))\n",
    "model.add(Dropout(.2))\n",
    "model.add(Dense(64, activation='tanh'))\n",
    "model.add(Dropout(.1))\n",
    "model.add(Dense(1, activation='sigmoid'))\n",
    "\n",
    "# Compiling the model\n",
    "model.compile(loss = 'binary_crossentropy', optimizer='adam', metrics=['accuracy'])\n",
    "model.summary()"
   ]
  },
  {
   "cell_type": "code",
   "execution_count": 79,
   "metadata": {},
   "outputs": [
    {
     "data": {
      "text/html": [
       "<div>\n",
       "<style scoped>\n",
       "    .dataframe tbody tr th:only-of-type {\n",
       "        vertical-align: middle;\n",
       "    }\n",
       "\n",
       "    .dataframe tbody tr th {\n",
       "        vertical-align: top;\n",
       "    }\n",
       "\n",
       "    .dataframe thead th {\n",
       "        text-align: right;\n",
       "    }\n",
       "</style>\n",
       "<table border=\"1\" class=\"dataframe\">\n",
       "  <thead>\n",
       "    <tr style=\"text-align: right;\">\n",
       "      <th></th>\n",
       "      <th>satisfaction_level</th>\n",
       "      <th>last_evaluation</th>\n",
       "      <th>number_project</th>\n",
       "      <th>average_monthly_hours</th>\n",
       "      <th>time_spend_company</th>\n",
       "      <th>Work_accident</th>\n",
       "      <th>promotion_last_5years</th>\n",
       "      <th>sales</th>\n",
       "      <th>salary</th>\n",
       "    </tr>\n",
       "  </thead>\n",
       "  <tbody>\n",
       "    <tr>\n",
       "      <th>12766</th>\n",
       "      <td>0.75</td>\n",
       "      <td>0.81</td>\n",
       "      <td>5</td>\n",
       "      <td>227</td>\n",
       "      <td>5</td>\n",
       "      <td>0</td>\n",
       "      <td>0</td>\n",
       "      <td>9</td>\n",
       "      <td>2</td>\n",
       "    </tr>\n",
       "    <tr>\n",
       "      <th>3537</th>\n",
       "      <td>0.93</td>\n",
       "      <td>0.92</td>\n",
       "      <td>3</td>\n",
       "      <td>205</td>\n",
       "      <td>3</td>\n",
       "      <td>0</td>\n",
       "      <td>0</td>\n",
       "      <td>7</td>\n",
       "      <td>2</td>\n",
       "    </tr>\n",
       "    <tr>\n",
       "      <th>10295</th>\n",
       "      <td>0.67</td>\n",
       "      <td>0.74</td>\n",
       "      <td>3</td>\n",
       "      <td>226</td>\n",
       "      <td>3</td>\n",
       "      <td>0</td>\n",
       "      <td>0</td>\n",
       "      <td>6</td>\n",
       "      <td>1</td>\n",
       "    </tr>\n",
       "  </tbody>\n",
       "</table>\n",
       "</div>"
      ],
      "text/plain": [
       "       satisfaction_level  last_evaluation  number_project  \\\n",
       "12766                0.75             0.81               5   \n",
       "3537                 0.93             0.92               3   \n",
       "10295                0.67             0.74               3   \n",
       "\n",
       "       average_monthly_hours  time_spend_company  Work_accident  \\\n",
       "12766                    227                   5              0   \n",
       "3537                     205                   3              0   \n",
       "10295                    226                   3              0   \n",
       "\n",
       "       promotion_last_5years  sales  salary  \n",
       "12766                      0      9       2  \n",
       "3537                       0      7       2  \n",
       "10295                      0      6       1  "
      ]
     },
     "execution_count": 79,
     "metadata": {},
     "output_type": "execute_result"
    }
   ],
   "source": [
    "features = np.array(X_train)\n",
    "targets = np.array((y_train))\n",
    "features_test = np.array(X_test)\n",
    "targets_test = np.array((y_test))\n",
    "X_train.head(3)\n"
   ]
  },
  {
   "cell_type": "code",
   "execution_count": 80,
   "metadata": {},
   "outputs": [
    {
     "data": {
      "text/plain": [
       "<keras.callbacks.callbacks.History at 0x1e2c840ff28>"
      ]
     },
     "execution_count": 80,
     "metadata": {},
     "output_type": "execute_result"
    }
   ],
   "source": [
    "# Training the model\n",
    "model.fit(features, targets, epochs=200, batch_size=100, verbose=0)"
   ]
  },
  {
   "cell_type": "code",
   "execution_count": 81,
   "metadata": {},
   "outputs": [
    {
     "name": "stdout",
     "output_type": "stream",
     "text": [
      "11998/11998 [==============================] - 0s 17us/step\n",
      "\n",
      " Training Accuracy: 0.9576596021652222\n",
      "3000/3000 [==============================] - 0s 12us/step\n",
      "\n",
      " Testing Accuracy: 0.9516666531562805\n"
     ]
    }
   ],
   "source": [
    "# Evaluating the model on the training and testing set\n",
    "score = model.evaluate(features, targets)\n",
    "print(\"\\n Training Accuracy:\", score[1])\n",
    "score = model.evaluate(features_test, targets_test)\n",
    "print(\"\\n Testing Accuracy:\", score[1])"
   ]
  },
  {
   "cell_type": "markdown",
   "metadata": {},
   "source": [
    "<h3>7. Summary</h3>"
   ]
  },
  {
   "cell_type": "code",
   "execution_count": 46,
   "metadata": {
    "scrolled": true
   },
   "outputs": [
    {
     "data": {
      "text/html": [
       "<div>\n",
       "<style scoped>\n",
       "    .dataframe tbody tr th:only-of-type {\n",
       "        vertical-align: middle;\n",
       "    }\n",
       "\n",
       "    .dataframe tbody tr th {\n",
       "        vertical-align: top;\n",
       "    }\n",
       "\n",
       "    .dataframe thead th {\n",
       "        text-align: right;\n",
       "    }\n",
       "</style>\n",
       "<table border=\"1\" class=\"dataframe\">\n",
       "  <thead>\n",
       "    <tr style=\"text-align: right;\">\n",
       "      <th></th>\n",
       "      <th>Predicted Left</th>\n",
       "      <th>Predicted Stay</th>\n",
       "    </tr>\n",
       "  </thead>\n",
       "  <tbody>\n",
       "    <tr>\n",
       "      <th>True Left</th>\n",
       "      <td>2141</td>\n",
       "      <td>131</td>\n",
       "    </tr>\n",
       "    <tr>\n",
       "      <th>True Stay</th>\n",
       "      <td>281</td>\n",
       "      <td>447</td>\n",
       "    </tr>\n",
       "  </tbody>\n",
       "</table>\n",
       "</div>"
      ],
      "text/plain": [
       "           Predicted Left  Predicted Stay\n",
       "True Left            2141             131\n",
       "True Stay             281             447"
      ]
     },
     "execution_count": 46,
     "metadata": {},
     "output_type": "execute_result"
    }
   ],
   "source": [
    "from sklearn.metrics import confusion_matrix\n",
    "\n",
    "pd.DataFrame(\n",
    "    confusion_matrix(y_test, clf.predict(X_t_test)),\n",
    "    columns=['Predicted Left', 'Predicted Stay'],\n",
    "    index=['True Left', 'True Stay']\n",
    ")"
   ]
  },
  {
   "cell_type": "markdown",
   "metadata": {},
   "source": [
    "<h4>7.2 Important Features Verification</h4>"
   ]
  },
  {
   "cell_type": "markdown",
   "metadata": {},
   "source": [
    "<h3>Feature Selection</h3>"
   ]
  },
  {
   "cell_type": "markdown",
   "metadata": {},
   "source": [
    "<b>1. Pearson Correlation </b> - This is a filter-based method.\n",
    "We check the absolute value of the Pearson’s correlation between the target and numerical features in our dataset. We keep the top n features based on this criterion."
   ]
  },
  {
   "cell_type": "code",
   "execution_count": 47,
   "metadata": {},
   "outputs": [],
   "source": [
    "X = X_train\n",
    "y = y_train\n",
    "num_feats=9"
   ]
  },
  {
   "cell_type": "code",
   "execution_count": 48,
   "metadata": {},
   "outputs": [
    {
     "name": "stdout",
     "output_type": "stream",
     "text": [
      "9 selected features\n"
     ]
    }
   ],
   "source": [
    "def cor_selector(X, y,num_feats):\n",
    "    cor_list = []\n",
    "    feature_name = X.columns.tolist()\n",
    "    # calculate the correlation with y for each feature\n",
    "    for i in X.columns.tolist():\n",
    "        cor = np.corrcoef(X[i], y)[0, 1]\n",
    "        cor_list.append(cor)\n",
    "    # replace NaN with 0\n",
    "    cor_list = [0 if np.isnan(i) else i for i in cor_list]\n",
    "    # feature name\n",
    "    cor_feature = X.iloc[:,np.argsort(np.abs(cor_list))[-num_feats:]].columns.tolist()\n",
    "    # feature selection? 0 for not select, 1 for select\n",
    "    cor_support = [True if i in cor_feature else False for i in feature_name]\n",
    "    return cor_support, cor_feature\n",
    "cor_support, cor_feature = cor_selector(X, y,num_feats)\n",
    "print(str(len(cor_feature)), 'selected features')"
   ]
  },
  {
   "cell_type": "markdown",
   "metadata": {},
   "source": [
    "<b>2. Chi-Squared </b>\n",
    "This is another filter-based method.\n",
    "In this method, we calculate the chi-square metric between the target and the numerical variable and only select the variable with the maximum chi-squared values."
   ]
  },
  {
   "cell_type": "code",
   "execution_count": 49,
   "metadata": {},
   "outputs": [
    {
     "name": "stdout",
     "output_type": "stream",
     "text": [
      "9 selected features\n"
     ]
    }
   ],
   "source": [
    "from sklearn.feature_selection import SelectKBest\n",
    "from sklearn.feature_selection import chi2\n",
    "from sklearn.preprocessing import MinMaxScaler\n",
    "X_norm = MinMaxScaler().fit_transform(X)\n",
    "chi_selector = SelectKBest(chi2, k=num_feats)\n",
    "chi_selector.fit(X_norm, y)\n",
    "chi_support = chi_selector.get_support()\n",
    "chi_feature = X.loc[:,chi_support].columns.tolist()\n",
    "print(str(len(chi_feature)), 'selected features')"
   ]
  },
  {
   "cell_type": "markdown",
   "metadata": {},
   "source": [
    "<b>3. Recursive Feature Elimination </b> - This is a wrapper based method. Wrapper methods consider the selection of a set of features as a search problem."
   ]
  },
  {
   "cell_type": "code",
   "execution_count": 50,
   "metadata": {},
   "outputs": [
    {
     "name": "stdout",
     "output_type": "stream",
     "text": [
      "9 selected features\n"
     ]
    }
   ],
   "source": [
    "from sklearn.feature_selection import RFE\n",
    "from sklearn.linear_model import LogisticRegression\n",
    "rfe_selector = RFE(estimator=LogisticRegression(), n_features_to_select=num_feats, step=10, verbose=5)\n",
    "rfe_selector.fit(X_norm, y)\n",
    "rfe_support = rfe_selector.get_support()\n",
    "rfe_feature = X.loc[:,rfe_support].columns.tolist()\n",
    "print(str(len(rfe_feature)), 'selected features')"
   ]
  },
  {
   "cell_type": "markdown",
   "metadata": {},
   "source": [
    "<b>4. Tree-based: SelectFromModel</b> - This is an Embedded method. As said before, Embedded methods use algorithms that have built-in feature selection methods.\n",
    "We can also use RandomForest to select features based on feature importance."
   ]
  },
  {
   "cell_type": "code",
   "execution_count": 52,
   "metadata": {},
   "outputs": [
    {
     "name": "stdout",
     "output_type": "stream",
     "text": [
      "5 selected features\n"
     ]
    }
   ],
   "source": [
    "from sklearn.feature_selection import SelectFromModel\n",
    "from sklearn.ensemble import RandomForestClassifier\n",
    "\n",
    "embeded_rf_selector = SelectFromModel(RandomForestClassifier(n_estimators=100), max_features=num_feats)\n",
    "embeded_rf_selector.fit(X, y)\n",
    "\n",
    "embeded_rf_support = embeded_rf_selector.get_support()\n",
    "embeded_rf_feature = X.loc[:,embeded_rf_support].columns.tolist()\n",
    "print(str(len(embeded_rf_feature)), 'selected features')"
   ]
  },
  {
   "cell_type": "markdown",
   "metadata": {},
   "source": [
    "<h3>All the important features verified by the various techniques combined</h3>"
   ]
  },
  {
   "cell_type": "code",
   "execution_count": 56,
   "metadata": {
    "scrolled": true
   },
   "outputs": [
    {
     "data": {
      "text/html": [
       "<div>\n",
       "<style scoped>\n",
       "    .dataframe tbody tr th:only-of-type {\n",
       "        vertical-align: middle;\n",
       "    }\n",
       "\n",
       "    .dataframe tbody tr th {\n",
       "        vertical-align: top;\n",
       "    }\n",
       "\n",
       "    .dataframe thead th {\n",
       "        text-align: right;\n",
       "    }\n",
       "</style>\n",
       "<table border=\"1\" class=\"dataframe\">\n",
       "  <thead>\n",
       "    <tr style=\"text-align: right;\">\n",
       "      <th></th>\n",
       "      <th>Feature</th>\n",
       "      <th>Pearson</th>\n",
       "      <th>Chi-2</th>\n",
       "      <th>RFE</th>\n",
       "      <th>Random Forest</th>\n",
       "      <th>Total</th>\n",
       "    </tr>\n",
       "  </thead>\n",
       "  <tbody>\n",
       "    <tr>\n",
       "      <th>1</th>\n",
       "      <td>time_spend_company</td>\n",
       "      <td>True</td>\n",
       "      <td>True</td>\n",
       "      <td>True</td>\n",
       "      <td>True</td>\n",
       "      <td>4</td>\n",
       "    </tr>\n",
       "    <tr>\n",
       "      <th>2</th>\n",
       "      <td>satisfaction_level</td>\n",
       "      <td>True</td>\n",
       "      <td>True</td>\n",
       "      <td>True</td>\n",
       "      <td>True</td>\n",
       "      <td>4</td>\n",
       "    </tr>\n",
       "    <tr>\n",
       "      <th>3</th>\n",
       "      <td>number_project</td>\n",
       "      <td>True</td>\n",
       "      <td>True</td>\n",
       "      <td>True</td>\n",
       "      <td>True</td>\n",
       "      <td>4</td>\n",
       "    </tr>\n",
       "    <tr>\n",
       "      <th>4</th>\n",
       "      <td>last_evaluation</td>\n",
       "      <td>True</td>\n",
       "      <td>True</td>\n",
       "      <td>True</td>\n",
       "      <td>True</td>\n",
       "      <td>4</td>\n",
       "    </tr>\n",
       "    <tr>\n",
       "      <th>5</th>\n",
       "      <td>average_monthly_hours</td>\n",
       "      <td>True</td>\n",
       "      <td>True</td>\n",
       "      <td>True</td>\n",
       "      <td>True</td>\n",
       "      <td>4</td>\n",
       "    </tr>\n",
       "    <tr>\n",
       "      <th>6</th>\n",
       "      <td>sales</td>\n",
       "      <td>True</td>\n",
       "      <td>True</td>\n",
       "      <td>True</td>\n",
       "      <td>False</td>\n",
       "      <td>3</td>\n",
       "    </tr>\n",
       "    <tr>\n",
       "      <th>7</th>\n",
       "      <td>salary</td>\n",
       "      <td>True</td>\n",
       "      <td>True</td>\n",
       "      <td>True</td>\n",
       "      <td>False</td>\n",
       "      <td>3</td>\n",
       "    </tr>\n",
       "    <tr>\n",
       "      <th>8</th>\n",
       "      <td>promotion_last_5years</td>\n",
       "      <td>True</td>\n",
       "      <td>True</td>\n",
       "      <td>True</td>\n",
       "      <td>False</td>\n",
       "      <td>3</td>\n",
       "    </tr>\n",
       "    <tr>\n",
       "      <th>9</th>\n",
       "      <td>Work_accident</td>\n",
       "      <td>True</td>\n",
       "      <td>True</td>\n",
       "      <td>True</td>\n",
       "      <td>False</td>\n",
       "      <td>3</td>\n",
       "    </tr>\n",
       "  </tbody>\n",
       "</table>\n",
       "</div>"
      ],
      "text/plain": [
       "                 Feature  Pearson  Chi-2   RFE  Random Forest  Total\n",
       "1     time_spend_company     True   True  True           True      4\n",
       "2     satisfaction_level     True   True  True           True      4\n",
       "3         number_project     True   True  True           True      4\n",
       "4        last_evaluation     True   True  True           True      4\n",
       "5  average_monthly_hours     True   True  True           True      4\n",
       "6                  sales     True   True  True          False      3\n",
       "7                 salary     True   True  True          False      3\n",
       "8  promotion_last_5years     True   True  True          False      3\n",
       "9          Work_accident     True   True  True          False      3"
      ]
     },
     "execution_count": 56,
     "metadata": {},
     "output_type": "execute_result"
    }
   ],
   "source": [
    "# put all selection together\n",
    "feature_selection_df = pd.DataFrame({'Feature':X.columns.tolist(), 'Pearson':cor_support, 'Chi-2':chi_support, 'RFE':rfe_support,\n",
    "                                    'Random Forest':embeded_rf_support})\n",
    "# count the selected times for each feature\n",
    "feature_selection_df['Total'] = np.sum(feature_selection_df, axis=1)\n",
    "# display the top 100\n",
    "feature_selection_df = feature_selection_df.sort_values(['Total','Feature'] , ascending=False)\n",
    "feature_selection_df.index = range(1, len(feature_selection_df)+1)\n",
    "feature_selection_df.head(num_feats)"
   ]
  },
  {
   "cell_type": "markdown",
   "metadata": {},
   "source": [
    "## Conclusion\n",
    "\n",
    "- The top features playing a vital role in the analysis are time_spend_company, satisfaction_level, number_project, last_evaluation, average_monthly_hours\n",
    "- The same can be confirmed from the graph also.\n",
    "- Therefore we can conclude that time_spend_company has a majority of the people with 3 years, satisfaction_level is 0-0.1 for those who leave, number_project is 2 for those who leave, last_evaluation is 0.36 to 0.52, average_monthly_hours is 226 to 268.\n",
    "- Since the data is highly related, therefore PCA is used for feature engineering to imporove the performance"
   ]
  },
  {
   "cell_type": "markdown",
   "metadata": {},
   "source": [
    "<h1>Questions</h1>\n",
    "- Business Understanding - Write down your business understanding of your case study in layman terms.\n",
    "    \n",
    "    <b>This dataset provides the details about the employee in their company. The details has 9 major columns -        time_spend_company,satisfaction_level,number_project,last_evaluation,average_monthly_hours,sales,salary,promotion_last_5years,Work_accident\n",
    "    The demand of the business is to predict on the basis of this is that whether a person would leave the company in near future or not</b>\n",
    "    \n",
    "- Data Understanding - What's your insight from provided dataset\n",
    "\n",
    "\n",
    "    #The insights provided from the dataset are mentioned in the conclusion#\n",
    "    \n",
    "- Data Preparation - What steps did you take to prepare data and why? (Feature Engineering)\n",
    "\n",
    "\n",
    "    <b>Checking for null values, changing categorical data to numerical</b>\n",
    "    \n",
    "    \n",
    "- Modelling - Which model/algorithm did you apply and why ?\n",
    "\n",
    "    <b>Tried with 2 algorithm - RandomForest and SVM. The plan for randomforest was dropped as the dataset is highly corelational and overfits the model</b>\n",
    "    \n",
    "- Evaluating the results - Which matrix and approach did you use to evaluate your model and Why?\n",
    "\n",
    "    <b>Accuracy and confusion matrix were used to decide the model performance</b>\n",
    "\n",
    "- Deploying changes - To increase the accuracy did you deploy any changes if yes , what changes did you make ?\n",
    "\n",
    "    <b>Hyperparameters can be tuned in order to make the accuracy go higher. GridSearch is used in this analysis for the same purpose</b>\n",
    "    "
   ]
  }
 ],
 "metadata": {
  "kernelspec": {
   "display_name": "Python 3",
   "language": "python",
   "name": "python3"
  },
  "language_info": {
   "codemirror_mode": {
    "name": "ipython",
    "version": 3
   },
   "file_extension": ".py",
   "mimetype": "text/x-python",
   "name": "python",
   "nbconvert_exporter": "python",
   "pygments_lexer": "ipython3",
   "version": "3.6.5"
  }
 },
 "nbformat": 4,
 "nbformat_minor": 2
}
